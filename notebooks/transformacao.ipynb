{
  "cells": [
    {
      "cell_type": "code",
      "metadata": {
        "jukit_cell_id": "8dWALEtvPy"
      },
      "source": [
        "import pandas as pd\n",
        "import numpy as np"
      ],
      "outputs": [],
      "execution_count": null
    },
    {
      "cell_type": "code",
      "metadata": {
        "jukit_cell_id": "3dtRun43EO"
      },
      "source": [
        "df = pd.read_csv(\"./data/produto.csv\")\n",
        "df.info()"
      ],
      "outputs": [],
      "execution_count": null
    },
    {
      "cell_type": "markdown",
      "metadata": {
        "jukit_cell_id": "u6A377V4uO"
      },
      "source": [
        "Cria\u00e7\u00e3o de colunas novas - Corrigindo pre\u00e7o pela infla\u00e7\u00e3o\n",
        "\u00b0\u00b0\u00b0\"\"\"\n",
        "df[\"vlPrecoAjustado\"] = df[\"vlPreco\"] * 1.09\n",
        "df[\"vlPrecoAjustado\"] = df[\"vlPrecoAjustado\"].round(2)\n",
        "df"
      ]
    },
    {
      "cell_type": "markdown",
      "metadata": {
        "jukit_cell_id": "jXAFVsHpZH"
      },
      "source": [
        "Cria\u00e7\u00e3o de colunas novas - Simplificando arredondamento\n",
        "\u00b0\u00b0\u00b0\"\"\"\n",
        "df[\"vlPrecoAjustado\"] = (df[\"vlPreco\"] * 1.09).round(2)\n",
        "df\n",
        "r\"\"\"\u00b0\u00b0\u00b0\n",
        "Cria\u00e7\u00e3o de colunas novas - Opera\u00e7\u00e3o entre colunas - Quanto aumentou\n",
        "\u00b0\u00b0\u00b0\"\"\"\n",
        "df[\"txAjuste(%)\"] = (100 * ((df[\"vlPrecoAjustado\"] / df[\"vlPreco\"]) - 1)).round(2)\n",
        "df\n",
        "r\"\"\"\u00b0\u00b0\u00b0\n",
        "Dropando colunas - Coluna de ajuste \n",
        "\u00b0\u00b0\u00b0\"\"\"\n",
        "df = df.drop(columns=[\"txAjuste\"])\n",
        "df\n",
        "r\"\"\"\u00b0\u00b0\u00b0\n",
        "Dropando colunas - Coluna de ajuste com (del)\n",
        "\u00b0\u00b0\u00b0\"\"\"\n",
        "del df[\"txAjueste(%)\"]\n",
        "df"
      ]
    },
    {
      "cell_type": "markdown",
      "metadata": {
        "jukit_cell_id": "1eZAmi2Itc"
      },
      "source": [
        "Aplicando transforma\u00e7\u00f5es complexas - com numpy\n",
        "\u00b0\u00b0\u00b0\"\"\"\n",
        "df[\"log(txAjuste(%))\"] = np.log(df[\"txAjuste(%)\"])\n",
        "df[\"exp(txAjuste)\"] = np.exp(df[\"txAjuste(%)\"])\n",
        "df"
      ]
    },
    {
      "cell_type": "markdown",
      "metadata": {
        "jukit_cell_id": "dqfFkXKlIK"
      },
      "source": [
        "Aplicando transforma\u00e7\u00f5es complexas - fun\u00e7\u00f5es personalizadas\n",
        "Fatorial da parte inteira\n",
        "\u00b0\u00b0\u00b0\"\"\"\n",
        "def fact(n):\n",
        "    total = 1\n",
        "    for i in range(2, int(n)+1):\n",
        "        total *= i\n",
        "    return total\n",
        "\n",
        "df[\"fact(vlPrecoAjustado)\"] = df[\"vlPrecoAjustado\"].apply(fact)\n",
        "df"
      ]
    },
    {
      "cell_type": "markdown",
      "metadata": {
        "jukit_cell_id": "lnrkfyABBI"
      },
      "source": [
        "Sidenote recurs\u00e3o da erro no metodo apply\n",
        "\u00b0\u00b0\u00b0\"\"\"\n",
        "def fact_tail(n, acc=1):\n",
        "    if n == 0:\n",
        "        return acc\n",
        "    return fact_tail(n - 1, acc * n)\n",
        "\n",
        "df[\"fact_rec(vlPrecoAjustado)\"] = df[\"vlPrecoAjustado\"].apply(fact_tail)\n",
        "df.to_csv(\"./data/produto_transform.csv\")"
      ]
    }
  ],
  "metadata": {
    "anaconda-cloud": {},
    "kernelspec": {
      "display_name": "python",
      "language": "python",
      "name": "python3"
    }
  },
  "nbformat": 4,
  "nbformat_minor": 4
}