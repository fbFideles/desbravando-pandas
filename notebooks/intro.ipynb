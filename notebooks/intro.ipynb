{
  "cells": [
    {
      "cell_type": "code",
      "metadata": {
        "jukit_cell_id": "FYZtDpms1a"
      },
      "source": [
        "import pandas as pd"
      ],
      "outputs": [],
      "execution_count": null
    },
    {
      "cell_type": "code",
      "metadata": {
        "jukit_cell_id": "LFTqxG4y0G"
      },
      "source": [
        "## Declarando pd.Series a partir de listas do python\n",
        "idade = [31, 33, 2, 29, 60, 58, 31, 45, 24]\n",
        "s_idade = pd.Series(idade)"
      ],
      "outputs": [],
      "execution_count": null
    },
    {
      "cell_type": "code",
      "metadata": {
        "jukit_cell_id": "3JknBNh4nk"
      },
      "source": [
        "## Metodos das pd.Series\n",
        "mean = s_idade.mean()\n",
        "variancia = s_idade.var()\n",
        "desv = s_idade.std()\n",
        "\n",
        "## Metodo descritivo das pd.Series\n",
        "s_idade.describe()"
      ],
      "outputs": [
        {
          "output_type": "stream",
          "name": "stdout",
          "text": "\n"
        },
        {
          "output_type": "execute_result",
          "execution_count": 1,
          "data": {
            "text/plain": "0    31\n1    33\n4    60\n5    58\n6    31\n7    45\ndtype: int64"
          },
          "metadata": {}
        }
      ],
      "execution_count": 1
    },
    {
      "cell_type": "markdown",
      "metadata": {
        "jukit_cell_id": "z1Ja0y4ZFZ"
      },
      "source": [
        "<h3>Listas possuem operadores escalares para compara\u00e7\u00e3o logica</h3>"
      ]
    },
    {
      "cell_type": "code",
      "metadata": {
        "jukit_cell_id": "KqL9DSODAd"
      },
      "source": [
        "filtro = s_idade >= 30\n",
        "filtro"
      ],
      "outputs": [],
      "execution_count": null
    },
    {
      "cell_type": "markdown",
      "metadata": {
        "jukit_cell_id": "Vf3Mh2tDSi"
      },
      "source": [
        "<h3>Essas opera\u00e7\u00f5es escalares retornam pd.Series comparadas em cada termo</h3>"
      ]
    },
    {
      "cell_type": "code",
      "metadata": {
        "jukit_cell_id": "SQ1RiYURk6"
      },
      "source": [
        "s_idade[filtro]"
      ],
      "outputs": [],
      "execution_count": null
    },
    {
      "cell_type": "markdown",
      "metadata": {
        "jukit_cell_id": "HltD1mKxzS"
      },
      "source": [
        "<h3>Que por sua vez podem ser utilizados em sua cole\u00e7\u00e3o como indice para a propria pd.Series</h3>"
      ]
    }
  ],
  "metadata": {
    "anaconda-cloud": {},
    "kernelspec": {
      "display_name": "python",
      "language": "python",
      "name": "python3"
    }
  },
  "nbformat": 4,
  "nbformat_minor": 4
}