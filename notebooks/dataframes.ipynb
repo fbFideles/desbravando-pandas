{
  "cells": [
    {
      "cell_type": "code",
      "metadata": {
        "jukit_cell_id": "uZ7mIE64rR"
      },
      "source": [
        "import pandas as pd"
      ],
      "outputs": [],
      "execution_count": null
    },
    {
      "cell_type": "code",
      "metadata": {
        "jukit_cell_id": "jc9DFP6uSV"
      },
      "source": [
        "data = {\n",
        "    \"nome\":[\"T\u00e9o\", \"Nah\", \"Maria\", \"Jos\u00e9\", \"Marina\", \"Jessica\", \"InfoSlack\"],\n",
        "    \"idade\":[30, 33, 2, 45, 65, 43, 40],\n",
        "    \"cor\": [\"Preto\", \"Verde\", \"Azul\", \"Vermelho\", \"Amarelo\", \"Verde\", \"Azul\"],\n",
        "    \"renda\": [3566, 1345, 0, 6576, 4325, 5326, 10244]\n",
        "}\n",
        "data[\"idade\"]"
      ],
      "outputs": [
        {
          "output_type": "stream",
          "name": "stdout",
          "text": "\n"
        },
        {
          "output_type": "execute_result",
          "execution_count": 1,
          "data": {
            "text/plain": "[30, 33, 2, 45, 65, 43, 40]"
          },
          "metadata": {}
        }
      ],
      "execution_count": 1
    },
    {
      "cell_type": "code",
      "metadata": {
        "jukit_cell_id": "Sie7qSURCf"
      },
      "source": [
        "df = pd.DataFrame(data)\n",
        "df.idade"
      ],
      "outputs": [
        {
          "output_type": "stream",
          "name": "stdout",
          "text": "\n"
        },
        {
          "output_type": "execute_result",
          "execution_count": 2,
          "data": {
            "text/plain": "0    30\n1    33\n2     2\n3    45\n4    65\n5    43\n6    40\nName: idade, dtype: int64"
          },
          "metadata": {}
        }
      ],
      "execution_count": 2
    },
    {
      "cell_type": "code",
      "metadata": {
        "jukit_cell_id": "A3QvvsiJGF"
      },
      "source": [
        "df = pd.DataFrame(data)\n",
        "df[\"idade\"]"
      ],
      "outputs": [
        {
          "output_type": "stream",
          "name": "stdout",
          "text": "\n"
        },
        {
          "output_type": "execute_result",
          "execution_count": 3,
          "data": {
            "text/plain": "0    30\n1    33\n2     2\n3    45\n4    65\n5    43\n6    40\nName: idade, dtype: int64"
          },
          "metadata": {}
        }
      ],
      "execution_count": 3
    },
    {
      "cell_type": "code",
      "metadata": {
        "jukit_cell_id": "kQBKTs6XwK"
      },
      "source": [
        "df.mean(numeric_only=True)"
      ],
      "outputs": [
        {
          "output_type": "stream",
          "name": "stdout",
          "text": "\n"
        },
        {
          "output_type": "execute_result",
          "execution_count": 4,
          "data": {
            "text/plain": "           idade         renda\ncount   7.000000      7.000000\nmean   36.857143   4483.142857\nstd    19.073792   3393.390754\nmin     2.000000      0.000000\n25%    31.500000   2455.500000\n50%    40.000000   4325.000000\n75%    44.000000   5951.000000\nmax    65.000000  10244.000000"
          },
          "metadata": {}
        }
      ],
      "execution_count": 4
    }
  ],
  "metadata": {
    "anaconda-cloud": {},
    "kernelspec": {
      "display_name": "python",
      "language": "python",
      "name": "python3"
    }
  },
  "nbformat": 4,
  "nbformat_minor": 4
}