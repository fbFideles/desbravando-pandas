{
  "cells": [
    {
      "cell_type": "code",
      "metadata": {
        "jukit_cell_id": "dp4D8qkeCJ"
      },
      "source": [
        "import pandas as pd"
      ],
      "outputs": [],
      "execution_count": null
    },
    {
      "cell_type": "code",
      "metadata": {
        "jukit_cell_id": "gDePxkng7c"
      },
      "source": [
        "df = pd.read_csv(\"./data/pedido.csv\")"
      ],
      "outputs": [
        {
          "output_type": "stream",
          "name": "stdout",
          "text": "\n"
        },
        {
          "output_type": "execute_result",
          "execution_count": 1,
          "data": {
            "text/plain": "      idPedido                      dtPedido flKetchup             descUF                                          txtRecado\n0            0  2023-05-11T10:59:33.000+0000       NaN              Goi\u00e1s                                                NaN\n1            1  2023-05-11T11:23:42.000+0000       NaN             Paran\u00e1                         Aquela pizza perfeita! :-D\n2            2  2023-05-11T11:24:29.000+0000       NaN          S\u00e3o Paulo                                   Muito obrigado!!\n3            3  2023-05-11T11:29:39.000+0000       NaN          S\u00e3o Paulo                                                NaN\n4            4  2023-05-11T11:31:30.000+0000       NaN  Rio Grande do Sul                               Capricha no peperoni\n...        ...                           ...       ...                ...                                                ...\n1101      1101  2023-05-25T16:47:40.000+0000      True            Sergipe  Esse formul\u00e1rio deu fome no meio do expediente...\n1102      1102  2023-05-25T16:55:35.000+0000     False          S\u00e3o Paulo                                                NaN\n1103      1103  2023-05-25T17:07:05.000+0000     False          S\u00e3o Paulo                                    Bastante queijo\n1104      1104  2023-05-25T18:18:02.000+0000      True          S\u00e3o Paulo                                                NaN\n1105      1105  2023-05-25T18:27:12.000+0000     False          S\u00e3o Paulo      Favor deixar a massa crocante e lave as m\u00e3os.\n\n[1106 rows x 5 columns]"
          },
          "metadata": {}
        }
      ],
      "execution_count": 1
    },
    {
      "cell_type": "markdown",
      "metadata": {
        "jukit_cell_id": "ahvNYqZneC"
      },
      "source": [
        "Filtrando apenas pelos pedidos feitos em sao paulo\n",
        "\u00b0\u00b0\u00b0\"\"\"\n",
        "filtro_uf = df[\"descUF\"] == \"S\u00e3o Paulo\" \n",
        "df[filtro_uf]"
      ]
    },
    {
      "cell_type": "markdown",
      "metadata": {
        "jukit_cell_id": "jMGt3Hll9C"
      },
      "source": [
        "Filtrando pelos pedidos de s\u00e3o paulo que pediram ketchup\n",
        "\u00b0\u00b0\u00b0\"\"\"\n",
        "filtro_uf = df[\"descUF\"] == \"S\u00e3o Paulo\" \n",
        "filtro_ketchup = df[\"flKetchup\"] == True\n",
        "df[filtro_uf][filtro_ketchup]"
      ]
    },
    {
      "cell_type": "markdown",
      "metadata": {
        "jukit_cell_id": "LVju4RLNea"
      },
      "source": [
        "Filtrando pelos pedidos de s\u00e3o paulo que pediram ketchup - Nota\u00e7\u00e3o &"
      ]
    },
    {
      "cell_type": "code",
      "metadata": {
        "jukit_cell_id": "cXl7Qw8dwo"
      },
      "source": [
        "filtro = (df[\"descUF\"] == \"S\u00e3o Paulo\")&(df[\"flKetchup\"])\n",
        "df[filtro]"
      ],
      "outputs": [],
      "execution_count": null
    },
    {
      "cell_type": "markdown",
      "metadata": {
        "jukit_cell_id": "d9Pnul9eyL"
      },
      "source": [
        "Filtrando de forma composta Parana, S\u00e3o Paulo, Rio de Janeiro e Ketchup"
      ]
    },
    {
      "cell_type": "code",
      "metadata": {
        "jukit_cell_id": "pZGxZmavcn"
      },
      "source": [
        "filtro = ((df[\"descUF\"] == \"S\u00e3o Paulo\") | (df[\"descUF\"] == \"Paran\u00e1\") | (df[\"descUF\"] == \"Rio de Janeiro\")) & (df[\"flKetchup\"])\n",
        "df[filtro][\"descUF\"]"
      ],
      "outputs": [
        {
          "output_type": "stream",
          "name": "stdout",
          "text": "\n"
        },
        {
          "output_type": "execute_result",
          "execution_count": 2,
          "data": {
            "text/plain": "array(['Rio de Janeiro', 'S\u00e3o Paulo', 'Paran\u00e1'], dtype=object)"
          },
          "metadata": {}
        }
      ],
      "execution_count": 2
    },
    {
      "cell_type": "markdown",
      "metadata": {
        "jukit_cell_id": "40iy6gG7QY"
      },
      "source": [
        "Testando unicidade do filtro de UF e de Ketchup"
      ]
    },
    {
      "cell_type": "code",
      "metadata": {
        "jukit_cell_id": "VL4zD2NG7j"
      },
      "source": [
        "pd.Series(df[filtro][\"descUF\"]).unique()"
      ],
      "outputs": [],
      "execution_count": null
    },
    {
      "cell_type": "code",
      "metadata": {
        "jukit_cell_id": "lmvLHVINs0"
      },
      "source": [
        "pd.Series(df[filtro][\"flKetchup\"]).unique()"
      ],
      "outputs": [],
      "execution_count": null
    },
    {
      "cell_type": "markdown",
      "metadata": {
        "jukit_cell_id": "aEQFbsTmU5"
      },
      "source": [
        "Filtrando de forma composta (Parana, S\u00e3o Paulo, Rio de Janeiro) e Ketchup - metodo pd.Series.isin"
      ]
    },
    {
      "cell_type": "code",
      "metadata": {
        "jukit_cell_id": "P6Xhy9hp0i"
      },
      "source": [
        "filtro = df[\"descUF\"].isin([\"S\u00e3o Paulo\", \"Paran\u00e1\", \"Rio de Janeiro\"]) & (df[\"flKetchup\"])\n",
        "df[filtro]"
      ],
      "outputs": [
        {
          "output_type": "stream",
          "name": "stdout",
          "text": "\n"
        },
        {
          "output_type": "execute_result",
          "execution_count": 3,
          "data": {
            "text/plain": "      idPedido                      dtPedido flKetchup          descUF                                          txtRecado\n9            9  2023-05-11T12:18:25.000+0000      True  Rio de Janeiro                                                NaN\n14          14  2023-05-11T13:33:49.000+0000      True       S\u00e3o Paulo  Espero que esta pizza esteja t\u00e3o boa quanto as...\n20          20  2023-05-11T16:40:11.000+0000      True       S\u00e3o Paulo            Brilhem e #VAAAAIIIIIII voc\u00eas s\u00e3o fodas\n22          22  2023-05-11T17:05:02.000+0000      True       S\u00e3o Paulo                              capricha no queijo :)\n23          23  2023-05-11T17:22:38.000+0000      True          Paran\u00e1                                                NaN\n...        ...                           ...       ...             ...                                                ...\n1069      1069  2023-05-25T08:10:37.000+0000      True  Rio de Janeiro                                                NaN\n1086      1086  2023-05-25T13:23:43.000+0000      True       S\u00e3o Paulo                                                NaN\n1093      1093  2023-05-25T15:32:17.000+0000      True       S\u00e3o Paulo                                                NaN\n1100      1100  2023-05-25T16:45:07.000+0000      True  Rio de Janeiro                                                NaN\n1104      1104  2023-05-25T18:18:02.000+0000      True       S\u00e3o Paulo                                                NaN\n\n[219 rows x 5 columns]"
          },
          "metadata": {}
        }
      ],
      "execution_count": 3
    },
    {
      "cell_type": "markdown",
      "metadata": {
        "jukit_cell_id": "nZsYCLsUio"
      },
      "source": [
        "Filtrando pelos pedidos que n\u00e3o deixaram recado usando pd.Series.isna\n",
        "\u00b0\u00b0\u00b0\"\"\"\n",
        "df[df[\"txtRecado\"].isna()]\n",
        "# alias pd.Series.isnull"
      ]
    }
  ],
  "metadata": {
    "anaconda-cloud": {},
    "kernelspec": {
      "display_name": "python",
      "language": "python",
      "name": "python3"
    }
  },
  "nbformat": 4,
  "nbformat_minor": 4
}