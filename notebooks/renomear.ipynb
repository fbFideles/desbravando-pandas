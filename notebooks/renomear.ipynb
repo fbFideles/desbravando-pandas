{
  "cells": [
    {
      "cell_type": "code",
      "metadata": {
        "jukit_cell_id": "q85IEfILwl"
      },
      "source": [
        "import pandas as pd"
      ],
      "outputs": [],
      "execution_count": null
    },
    {
      "cell_type": "code",
      "metadata": {
        "jukit_cell_id": "TbZ4zX5pjm"
      },
      "source": [
        "df = pd.read_csv(\"./data/pedido.csv\")\n",
        "df"
      ],
      "outputs": [
        {
          "output_type": "stream",
          "name": "stdout",
          "text": "\n"
        },
        {
          "output_type": "execute_result",
          "execution_count": 1,
          "data": {
            "text/plain": "      idPedido  ...                                          txtRecado\n0            0  ...                                                NaN\n1            1  ...                         Aquela pizza perfeita! :-D\n2            2  ...                                   Muito obrigado!!\n3            3  ...                                                NaN\n4            4  ...                               Capricha no peperoni\n...        ...  ...                                                ...\n1101      1101  ...  Esse formul\u00e1rio deu fome no meio do expediente...\n1102      1102  ...                                                NaN\n1103      1103  ...                                    Bastante queijo\n1104      1104  ...                                                NaN\n1105      1105  ...      Favor deixar a massa crocante e lave as m\u00e3os.\n\n[1106 rows x 5 columns]"
          },
          "metadata": {}
        }
      ],
      "execution_count": 1
    },
    {
      "cell_type": "code",
      "metadata": {
        "jukit_cell_id": "Htv9hjUKdA"
      },
      "source": [
        "df[\"descUF\"].head()"
      ],
      "outputs": [],
      "execution_count": null
    },
    {
      "cell_type": "code",
      "metadata": {
        "jukit_cell_id": "8Gq4kughBF"
      },
      "source": [
        "de_para_dict = {\"descUF\": \"descEstado\"}\n",
        "df.rename(columns=de_para_dict, inplace=True)"
      ],
      "outputs": [],
      "execution_count": null
    },
    {
      "cell_type": "code",
      "metadata": {
        "jukit_cell_id": "kDkNHb0BSG"
      },
      "source": [
        "de_para_dict = {\"descUF\": \"descEstado\"}\n",
        "df = df.rename(columns=de_para_dict)"
      ],
      "outputs": [],
      "execution_count": null
    },
    {
      "cell_type": "code",
      "metadata": {
        "jukit_cell_id": "W0l9N9IHsr"
      },
      "source": [
        "df"
      ],
      "outputs": [],
      "execution_count": null
    }
  ],
  "metadata": {
    "anaconda-cloud": {},
    "kernelspec": {
      "display_name": "python",
      "language": "python",
      "name": "python3"
    }
  },
  "nbformat": 4,
  "nbformat_minor": 4
}